{
  "nbformat": 4,
  "nbformat_minor": 0,
  "metadata": {
    "colab": {
      "provenance": [],
      "gpuType": "T4",
      "authorship_tag": "ABX9TyOSIHcDcVa7j8bG9qBWpDfJ",
      "include_colab_link": true
    },
    "kernelspec": {
      "name": "python3",
      "display_name": "Python 3"
    },
    "language_info": {
      "name": "python"
    },
    "accelerator": "GPU"
  },
  "cells": [
    {
      "cell_type": "markdown",
      "metadata": {
        "id": "view-in-github",
        "colab_type": "text"
      },
      "source": [
        "<a href=\"https://colab.research.google.com/github/vcoopman/study/blob/main/CUDA/CudaMatrixMultiplication.ipynb\" target=\"_parent\"><img src=\"https://colab.research.google.com/assets/colab-badge.svg\" alt=\"Open In Colab\"/></a>"
      ]
    },
    {
      "cell_type": "code",
      "execution_count": 18,
      "metadata": {
        "colab": {
          "base_uri": "https://localhost:8080/"
        },
        "id": "fZTMhbiO5bCh",
        "outputId": "6378922f-cd3e-4b1c-e44d-e5fa7e9ed7d3"
      },
      "outputs": [
        {
          "output_type": "stream",
          "name": "stdout",
          "text": [
            "Mon Jul 15 05:39:53 2024       \n",
            "+---------------------------------------------------------------------------------------+\n",
            "| NVIDIA-SMI 535.104.05             Driver Version: 535.104.05   CUDA Version: 12.2     |\n",
            "|-----------------------------------------+----------------------+----------------------+\n",
            "| GPU  Name                 Persistence-M | Bus-Id        Disp.A | Volatile Uncorr. ECC |\n",
            "| Fan  Temp   Perf          Pwr:Usage/Cap |         Memory-Usage | GPU-Util  Compute M. |\n",
            "|                                         |                      |               MIG M. |\n",
            "|=========================================+======================+======================|\n",
            "|   0  Tesla T4                       Off | 00000000:00:04.0 Off |                    0 |\n",
            "| N/A   40C    P8              10W /  70W |      0MiB / 15360MiB |      0%      Default |\n",
            "|                                         |                      |                  N/A |\n",
            "+-----------------------------------------+----------------------+----------------------+\n",
            "                                                                                         \n",
            "+---------------------------------------------------------------------------------------+\n",
            "| Processes:                                                                            |\n",
            "|  GPU   GI   CI        PID   Type   Process name                            GPU Memory |\n",
            "|        ID   ID                                                             Usage      |\n",
            "|=======================================================================================|\n",
            "|  No running processes found                                                           |\n",
            "+---------------------------------------------------------------------------------------+\n"
          ]
        }
      ],
      "source": [
        "!nvidia-smi"
      ]
    },
    {
      "cell_type": "code",
      "source": [
        "!nvcc --version"
      ],
      "metadata": {
        "colab": {
          "base_uri": "https://localhost:8080/"
        },
        "id": "7pbzlSYN6VLl",
        "outputId": "8c83884c-4e03-4348-afaf-4876ac1e5803"
      },
      "execution_count": 19,
      "outputs": [
        {
          "output_type": "stream",
          "name": "stdout",
          "text": [
            "nvcc: NVIDIA (R) Cuda compiler driver\n",
            "Copyright (c) 2005-2023 NVIDIA Corporation\n",
            "Built on Tue_Aug_15_22:02:13_PDT_2023\n",
            "Cuda compilation tools, release 12.2, V12.2.140\n",
            "Build cuda_12.2.r12.2/compiler.33191640_0\n"
          ]
        }
      ]
    },
    {
      "cell_type": "code",
      "execution_count": 12,
      "metadata": {
        "id": "_EuukHjG57jH",
        "colab": {
          "base_uri": "https://localhost:8080/"
        },
        "outputId": "e62d5013-0908-42ea-bcd3-4f2ad26e7fde"
      },
      "outputs": [
        {
          "output_type": "stream",
          "name": "stdout",
          "text": [
            "Overwriting /tmp/cuda_matrix_multiplication.cu\n"
          ]
        }
      ],
      "source": [
        "%%file /tmp/cuda_matrix_multiplication.cu\n",
        "/*******************************************************************************\n",
        " * Matrix Multiplication using Compute Unified Device Architecture (CUDA)\n",
        " *\n",
        " * This is a toy project used to study the use of CUDA.\n",
        " *\n",
        " *******************************************************************************\n",
        " *\n",
        " * who       when        what\n",
        " * --------  ----------  ----------------------------------------------\n",
        " * vcoopman  2024-07-13  created\n",
        " */\n",
        "\n",
        "#include <iostream>\n",
        "#include <cstdlib>\n",
        "#include <ctime>\n",
        "\n",
        "#define N 4\n",
        "\n",
        "// CUDA kernel for matrix multiplication.\n",
        "__global__ void matrix_multiplication(int *mat_a, int *mat_b, int *mat_c, int n) {\n",
        "    // Get global indices i and j.\n",
        "    int i = blockIdx.x * blockDim.x + threadIdx.x;\n",
        "    int j = blockIdx.y * blockDim.y + threadIdx.y;\n",
        "\n",
        "    // Perform the matrix multiplication for element in mat_c.\n",
        "    int sum = 0;\n",
        "    if (i < n && j < n) {\n",
        "        for (int k = 0; k < n; k++)\n",
        "            sum += mat_a[i * n + k] * mat_b[k * n + j];\n",
        "        mat_c[i * n + j] = sum;\n",
        "    }\n",
        "}\n",
        "\n",
        "int main() {\n",
        "    std::srand(std::time(0));\n",
        "\n",
        "    // This example covers square matrices.\n",
        "    int n = N;\n",
        "\n",
        "    // Define both host and device matrices.\n",
        "    int *mat_a, *mat_b, *mat_c;\n",
        "    int *d_mat_a, *d_mat_b, *d_mat_c;\n",
        "    int size = n * n * sizeof(int);\n",
        "\n",
        "    // Allocate memory for host matrices.\n",
        "    mat_a = (int *)malloc(size);\n",
        "    mat_b = (int *)malloc(size);\n",
        "    mat_c = (int *)malloc(size);\n",
        "\n",
        "    // Initialize matrices with random integers.\n",
        "    for (int i = 0; i < n; i++)\n",
        "        for (int j = 0; j < n; j++) {\n",
        "            mat_a[i * n + j] = std::rand() % 10;\n",
        "            mat_b[i * n + j] = std::rand() % 10;\n",
        "        }\n",
        "\n",
        "    // Display both mat_a.\n",
        "    printf(\"Mat A\\n\");\n",
        "    printf(\"-----\\n\");\n",
        "    for (int i = 0; i < n; i++) {\n",
        "        for (int j = 0; j < n; j++)\n",
        "            printf(\"%d \", mat_a[i * n + j]);\n",
        "        printf(\"\\n\");\n",
        "    }\n",
        "\n",
        "    // Display both mat_b.\n",
        "    printf(\"Mat B\\n\");\n",
        "    printf(\"-----\\n\");\n",
        "    for (int i = 0; i < n; i++) {\n",
        "        for (int j = 0; j < n; j++)\n",
        "            printf(\"%d \", mat_b[i * n + j]);\n",
        "        printf(\"\\n\");\n",
        "    }\n",
        "\n",
        "    // Allocate memory in device matrices.\n",
        "    cudaMalloc((void **)&d_mat_a, size);\n",
        "    cudaMalloc((void **)&d_mat_b, size);\n",
        "    cudaMalloc((void **)&d_mat_c, size);\n",
        "\n",
        "    // Copy input matrices (mat_a, mat_b) to device memory.\n",
        "    cudaMemcpy(d_mat_a, mat_a, size, cudaMemcpyHostToDevice);\n",
        "    cudaMemcpy(d_mat_b, mat_b, size, cudaMemcpyHostToDevice);\n",
        "\n",
        "    // One block will have enough threads to cover the entire matrix.\n",
        "    // Each element of the resulting matrix will be calculated by an independent thread.\n",
        "    // Because we are dealing with square matrices, we use N * N threads.\n",
        "    dim3 blockSize(N, N);\n",
        "    // Because our blockSize is enough to cover the problem space, we will need only 1 block in the grid.\n",
        "    dim3 gridSize(1, 1);\n",
        "    // Execute kernel.\n",
        "    matrix_multiplication<<<gridSize, blockSize>>>(d_mat_a, d_mat_b, d_mat_c, n);\n",
        "\n",
        "    // Copy result from device to host.\n",
        "    cudaMemcpy(mat_c, d_mat_c, size, cudaMemcpyDeviceToHost);\n",
        "\n",
        "    // Display result.\n",
        "    printf(\"Mat C\\n\");\n",
        "    printf(\"-----\\n\");\n",
        "    for (int i = 0; i < n; i++) {\n",
        "        for (int j = 0; j < n; j++)\n",
        "            printf(\"%d \", mat_c[i * n + j]);\n",
        "        printf(\"\\n\");\n",
        "    }\n",
        "\n",
        "    // Free allocated memory in host and device.\n",
        "    cudaFree(d_mat_a);\n",
        "    cudaFree(d_mat_b);\n",
        "    cudaFree(d_mat_c);\n",
        "    free(mat_a);\n",
        "    free(mat_b);\n",
        "    free(mat_c);\n",
        "\n",
        "    return 0;\n",
        "\n",
        "}"
      ]
    },
    {
      "cell_type": "code",
      "execution_count": 13,
      "metadata": {
        "id": "rYgRPRX7Sbuf",
        "colab": {
          "base_uri": "https://localhost:8080/"
        },
        "outputId": "b987e595-88d8-4ed4-c309-9e2358001853"
      },
      "outputs": [
        {
          "output_type": "stream",
          "name": "stdout",
          "text": [
            "Mat A\n",
            "-----\n",
            "8 3 7 8 \n",
            "8 7 0 8 \n",
            "1 3 9 8 \n",
            "9 8 8 1 \n",
            "Mat B\n",
            "-----\n",
            "2 4 9 1 \n",
            "4 4 0 8 \n",
            "8 7 5 7 \n",
            "7 3 6 6 \n",
            "Mat C\n",
            "-----\n",
            "140 117 155 129 \n",
            "100 84 120 112 \n",
            "142 103 102 136 \n",
            "121 127 127 135 \n"
          ]
        }
      ],
      "source": [
        "! nvcc /tmp/cuda_matrix_multiplication.cu -o /tmp/cuda_matrix_multiplication && /tmp/cuda_matrix_multiplication"
      ]
    },
    {
      "cell_type": "code",
      "source": [
        "# Profile the app.\n",
        "!nvprof /tmp/cuda_matrix_multiplication"
      ],
      "metadata": {
        "colab": {
          "base_uri": "https://localhost:8080/"
        },
        "id": "aXXajx8yH7Rl",
        "outputId": "636bf2f9-d6d2-4c37-81ba-a0916939a3f0"
      },
      "execution_count": 17,
      "outputs": [
        {
          "output_type": "stream",
          "name": "stdout",
          "text": [
            "Mat A\n",
            "-----\n",
            "4 9 1 1 \n",
            "0 4 1 3 \n",
            "4 1 2 9 \n",
            "9 7 3 3 \n",
            "Mat B\n",
            "-----\n",
            "0 1 1 4 \n",
            "5 1 9 8 \n",
            "1 0 5 4 \n",
            "3 4 5 8 \n",
            "==7971== NVPROF is profiling process 7971, command: /tmp/cuda_matrix_multiplication\n",
            "Mat C\n",
            "-----\n",
            "49 17 95 100 \n",
            "30 16 56 60 \n",
            "34 41 68 104 \n",
            "47 28 102 128 \n",
            "==7971== Profiling application: /tmp/cuda_matrix_multiplication\n",
            "==7971== Profiling result:\n",
            "            Type  Time(%)      Time     Calls       Avg       Min       Max  Name\n",
            " GPU activities:   50.40%  4.0000us         1  4.0000us  4.0000us  4.0000us  matrix_multiplication(int*, int*, int*, int)\n",
            "                   26.61%  2.1120us         1  2.1120us  2.1120us  2.1120us  [CUDA memcpy DtoH]\n",
            "                   22.98%  1.8240us         2     912ns     640ns  1.1840us  [CUDA memcpy HtoD]\n",
            "      API calls:   99.50%  103.68ms         3  34.559ms  2.8610us  103.66ms  cudaMalloc\n",
            "                    0.18%  190.07us         1  190.07us  190.07us  190.07us  cudaLaunchKernel\n",
            "                    0.14%  145.53us       114  1.2760us     133ns  61.353us  cuDeviceGetAttribute\n",
            "                    0.11%  113.69us         3  37.897us  4.8750us  99.078us  cudaFree\n",
            "                    0.05%  47.605us         3  15.868us  6.9950us  20.731us  cudaMemcpy\n",
            "                    0.01%  12.268us         1  12.268us  12.268us  12.268us  cuDeviceGetName\n",
            "                    0.01%  5.3490us         1  5.3490us  5.3490us  5.3490us  cuDeviceGetPCIBusId\n",
            "                    0.00%  4.7590us         1  4.7590us  4.7590us  4.7590us  cuDeviceTotalMem\n",
            "                    0.00%  1.4660us         3     488ns     185ns  1.0160us  cuDeviceGetCount\n",
            "                    0.00%     925ns         2     462ns     176ns     749ns  cuDeviceGet\n",
            "                    0.00%     517ns         1     517ns     517ns     517ns  cuModuleGetLoadingMode\n",
            "                    0.00%     238ns         1     238ns     238ns     238ns  cuDeviceGetUuid\n"
          ]
        }
      ]
    }
  ]
}